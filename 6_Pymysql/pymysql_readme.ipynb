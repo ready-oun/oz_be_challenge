{
 "cells": [
  {
   "cell_type": "code",
   "execution_count": null,
   "metadata": {},
   "outputs": [],
   "source": [
    "# 터미널 or 명령 프롬포트 -> pip install pymysql\n",
    "\n",
    "import pymysql\n",
    "\n",
    "# 데이터베이스 연결 설정\n",
    "connection = pymysql.connect(host='localhost',\n",
    "                             user='root',\n",
    "                             password='your password',\n",
    "                             db='classicmodels',\n",
    "                             charset='utf8mb4',\n",
    "                             cursorclass=pymysql.cursors.DictCursor)\n",
    "\n",
    "try:\n",
    "    # 커서 생성\n",
    "    with connection.cursor() as cursor:\n",
    "        # SQL 쿼리 실행\n",
    "        sql = \"YOUR_SQL_QUERY\"\n",
    "        cursor.execute(sql)\n",
    "\n",
    "        # 결과 받아오기\n",
    "        result = cursor.fetchall()\n",
    "        print(result)\n",
    "\n",
    "finally:\n",
    "    # 데이터베이스 연결 종료\n",
    "    connection.close()"
   ]
  },
  {
   "cell_type": "markdown",
   "metadata": {},
   "source": [
    "- **`charset='utf8mb4'`**\n",
    "    - 이 설정은 데이터베이스 연결에 사용되는 문자 집합을 지정합니다.\n",
    "    - **`utf8mb4`**는 MySQL에서 유니코드를 완벽하게 지원하기 위한 문자 집합으로, 이모지를 포함한 모든 유니코드 문자를 지원합니다.\n",
    "    - 데이터베이스에 다양한 언어의 문자 데이터를 저장하거나, 이모지 등의 4바이트 유니코드 문자를 사용할 경우 이 설정이 필요합니다.\n",
    "- **`**cursorclass**`**\n",
    "    1. **Default Cursor (`pymysql.cursors.Cursor`)**: 기본 커서 클래스로, 결과를 튜플 형식으로 반환합니다. 각 행은 값들의 튜플로 나타나며, 열 이름 정보는 포함하지 않습니다.\n",
    "    2. **DictCursor (`pymysql.cursors.DictCursor`)**: 이 커서 클래스는 결과를 딕셔너리 형식으로 반환합니다. 각 행은 열 이름을 키로 하고 해당 데이터를 값으로 하는 딕셔너리로 나타납니다. 이는 결과를 처리할 때 열 이름으로 데이터에 접근할 수 있게 해줘 편리합니다.\n",
    "    3. **SSCursor (`pymysql.cursors.SSCursor`)**: 서버 사이드 커서로, 큰 결과 집합을 처리할 때 유용합니다. 이 커서는 모든 결과를 한 번에 메모리에 로드하지 않고, 필요할 때마다 서버에서 행을 가져옵니다.\n",
    "    4. **SSDictCursor (`pymysql.cursors.SSDictCursor`)**: 서버 사이드 딕셔너리 커서로, **`SSCursor`**의 기능에 딕셔너리 형식의 결과 반환을 추가합니다. 큰 데이터 집합에서 열 이름으로 데이터에 접근해야 할 때 유용합니다.\n",
    "    5. **NamedTupleCursor (`pymysql.cursors.NamedTupleCursor`)**: 이 커서는 결과를 명명된 튜플(namedtuple) 형식으로 반환합니다. 각 행은 필드 이름으로 접근 가능한 튜플로 나타납니다. 이는 열 이름으로 데이터에 접근할 수 있으면서도 튜플의 간결함을 유지합니다.\n",
    "    \n",
    "- **`cursorclass=pymysql.cursors.DictCursor`**\n",
    "    - 이 설정은 데이터베이스 쿼리의 결과를 어떻게 반환할지 결정합니다.\n",
    "    - 기본적으로 PyMySQL은 쿼리 결과를 튜플(tuple) 형태로 반환합니다.\n",
    "    - **`DictCursor`**를 사용하면 쿼리 결과를 딕셔너리(dictionary) 형태로 받을 수 있어, 각 열의 이름으로 결과에 접근할 수 있습니다. 이는 결과 데이터를 처리할 때 더 직관적이고 편리할 수 있습니다.\n",
    "    \n",
    "    ```sql\n",
    "    {\n",
    "        'column_name1': 'value1',\n",
    "        'column_name2': 'value2',\n",
    "        ...\n",
    "    }\n",
    "    ```\n",
    "    \n",
    "- **`DictCursor`**와 **`SSDictCursor`**\n",
    "    \n",
    "    **`DictCursor`**와 **`SSDictCursor`**는 PyMySQL에서 사용되는 두 종류의 커서입니다. 두 커서 모두 쿼리 결과를 딕셔너리 형식으로 반환하는 것은 같지만, 데이터를 처리하는 방식에서 차이가 있습니다.\n",
    "    \n",
    "    - **`DictCursor`**: 이 커서는 쿼리 결과를 딕셔너리 형식으로 반환합니다. 이 경우, 쿼리의 전체 결과가 클라이언트의 메모리에 한 번에 로드됩니다. 이 방식은 결과 집합이 상대적으로 작을 때 효과적입니다.\n",
    "    - **`SSDictCursor` (Server-Side DictCursor)**: 이 커서도 결과를 딕셔너리 형식으로 반환하지만, 서버 사이드 커서의 특징을 가집니다. 즉, 쿼리의 전체 결과를 한 번에 메모리에 로드하지 않고, 필요할 때마다 서버에서 데이터를 가져옵니다. 이는 큰 결과 집합을 처리할 때 메모리 사용량을 줄이고 효율을 높이는 데 유용합니다.\n",
    "    \n",
    "    결론적으로, 작은 데이터 세트를 다룰 때는 **`DictCursor`**를 사용하는 것이 좋고, 큰 데이터 세트를 다룰 때는 **`SSDictCursor`**를 사용하는 것이 더 효율적입니다. 그러나 **`SSDictCursor`**는 데이터를 서버에서 점진적으로 가져오기 때문에, 작은 데이터 세트에 대해서도 사용할 수 있지만, 이 경우에는 **`DictCursor`**에 비해 약간의 오버헤드가 발생할 수 있습니다. 따라서 적절한 커서 선택은 사용 사례와 데이터 세트의 크기에 따라 달라질 수 있습니다."
   ]
  }
 ],
 "metadata": {
  "language_info": {
   "name": "python"
  }
 },
 "nbformat": 4,
 "nbformat_minor": 2
}
