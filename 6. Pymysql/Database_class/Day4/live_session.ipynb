{
 "cells": [
  {
   "cell_type": "markdown",
   "metadata": {},
   "source": [
    "<h1>SQL 쿼리문 적용되는 순서</h1>\n",
    "\n",
    "1. FROM & JOIN \n",
    "2. WHERE \n",
    "3. GROUP BY \n",
    "4. HAVING \n",
    "5. SELECT \n",
    "6. ORDER BY \n",
    "7. LIMIT "
   ]
  },
  {
   "cell_type": "markdown",
   "metadata": {},
   "source": [
    "<h3>실제로 쿼리문 작성할 때, from 절부터 작성한다.</h3>\n",
    "\n",
    "<span>가장 기본적인 쿼리문 성능 향상 작성법은 아래 순서로 코드 작성하기</span>\n",
    "\n",
    "- from => where => group by => order by\n",
    "\n",
    "    테이블을 선택해야 그 테이블에서 뭘 쪼개서 가져올 건지 조건을 설정할 수 있다.\n",
    "    그리고 마지막으로 정렬해주면 된다. \n",
    "    화면에 보여줄 걸 어떻게 가져올지 정하는데 컴퓨터가 가져오는 순서대로 작성해야 퍼포먼스를 향상시킬 수 있다.\n",
    "    "
   ]
  },
  {
   "cell_type": "markdown",
   "metadata": {},
   "source": [
    "심리테스트 프로젝트를 했을 때, 1만여 명의 데이터를 가지고 화면에 어떻게 더 빨리 뜨게 하는지 등 기술 블로그 작성.\n",
    "\n",
    "그 코드를 전부 받아서 나의 쿼리문으로 만들어서 시간을 단축하는 공부를 하면, \n",
    "플라스크를 맡지 않아도 충분히 어필이 된다.\n",
    "내가 참여한 프로젝트이기 때문에 코드 리뷰해서 리팩토링 따로 해보면 된다.\n",
    "\n",
    "기존 서비스를 만들었을 때, 시키지도 않았는데 뭔가를 찾아서 1초라도 더 최적화하려는 습관을 보고 잠재가능성을 엿볼 수 있다."
   ]
  },
  {
   "cell_type": "markdown",
   "metadata": {},
   "source": [
    "진짜 근본은 정형화된 데이터를 다루는 SQL. 비정형 데이터도 정형화시키는 라이브러리 패키지를 이용한다. "
   ]
  },
  {
   "cell_type": "markdown",
   "metadata": {},
   "source": [
    "[쿼리 최적화: 빠른 쿼리를 위한 7가지 체크리스트 ✅](https://medium.com/watcha/%EC%BF%BC%EB%A6%AC-%EC%B5%9C%EC%A0%81%ED%99%94-%EC%B2%AB%EA%B1%B8%EC%9D%8C-%EB%B3%B4%EB%8B%A4-%EB%B9%A0%EB%A5%B8-%EC%BF%BC%EB%A6%AC%EB%A5%BC-%EC%9C%84%ED%95%9C-7%EA%B0%80%EC%A7%80-%EC%B2%B4%ED%81%AC-%EB%A6%AC%EC%8A%A4%ED%8A%B8-bafec9d2c073)\n",
    "\n",
    "https://medium.com/watcha/쿼리-최적화-첫걸음-보다-빠른-쿼리를-위한-7가지-체크-리스트-bafec9d2c073\n",
    "\n",
    "SELECT * FROM movie;\n",
    "ㄴ 이런식으로 * 다 부르는 건 엄청퍼포먼스를 저하시킴\n",
    "그래서 원하는 조건만 부르도록 해야 함\n",
    "\n",
    "조건 부여 시, 가급적 DB값에 별도 연산을 걸지 않는 게 좋음 \n",
    "파이썬보다 SQL이 훨씬 빠르다.\n",
    "id값 가져와서 파이썬에서 for문이나 while문 돌리면, 퍼포먼스 엄청 떨어짐.\n",
    "할 일을 최대한 SQL에서 진행하라... \n",
    "DB도 연산에 대해서는 되게 느리다. 연산을 안 써도 되면, 머리를 써서 대안을 강구하셔라."
   ]
  },
  {
   "cell_type": "markdown",
   "metadata": {},
   "source": []
  }
 ],
 "metadata": {
  "language_info": {
   "name": "python"
  }
 },
 "nbformat": 4,
 "nbformat_minor": 2
}
