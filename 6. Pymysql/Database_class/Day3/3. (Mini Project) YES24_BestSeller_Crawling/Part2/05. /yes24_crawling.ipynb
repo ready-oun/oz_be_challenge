{
 "cells": [
  {
   "cell_type": "markdown",
   "metadata": {},
   "source": [
    "# YES24 Crawling"
   ]
  },
  {
   "cell_type": "code",
   "execution_count": 21,
   "metadata": {},
   "outputs": [
    {
     "data": {
      "text/plain": [
       "'/Users/robin/.wdm/drivers/chromedriver/mac64/120.0.6099.109/chromedriver-mac-arm64/chromedriver'"
      ]
     },
     "execution_count": 21,
     "metadata": {},
     "output_type": "execute_result"
    }
   ],
   "source": [
    "# webdriver-manager 라이브러리 불러오기\n",
    "from webdriver_manager.chrome import ChromeDriverManager\n",
    "ChromeDriverManager().install()"
   ]
  },
  {
   "cell_type": "code",
   "execution_count": 34,
   "metadata": {},
   "outputs": [],
   "source": [
    "from selenium import webdriver\n",
    "from selenium.webdriver.common.by import By\n",
    "\n",
    "browser = webdriver.Chrome()"
   ]
  },
  {
   "cell_type": "code",
   "execution_count": 23,
   "metadata": {},
   "outputs": [],
   "source": [
    "url = 'https://www.yes24.com/Product/Category/BestSeller?categoryNumber=001&pageNumber=1&pageSize=24'\n",
    "browser.get(url)"
   ]
  },
  {
   "cell_type": "code",
   "execution_count": 24,
   "metadata": {},
   "outputs": [
    {
     "name": "stdout",
     "output_type": "stream",
     "text": [
      "https://www.yes24.com/Product/Goods/124574394\n",
      "https://www.yes24.com/Product/Goods/122120495\n",
      "https://www.yes24.com/Product/Goods/123675187\n",
      "https://www.yes24.com/Product/Goods/117014613\n",
      "https://www.yes24.com/Product/Goods/124112599\n",
      "https://www.yes24.com/Product/Goods/124043812\n",
      "https://www.yes24.com/Product/Goods/124501342\n",
      "https://www.yes24.com/Product/Goods/124043802\n",
      "https://www.yes24.com/Product/Goods/123930880\n",
      "https://www.yes24.com/Product/Goods/123930891\n",
      "https://www.yes24.com/Product/Goods/122090360\n",
      "https://www.yes24.com/Product/Goods/122944685\n",
      "https://www.yes24.com/Product/Goods/118579613\n",
      "https://www.yes24.com/Product/Goods/123155346\n",
      "https://www.yes24.com/Product/Goods/124127709\n",
      "https://www.yes24.com/Product/Goods/122426425\n",
      "https://www.yes24.com/Product/Goods/124341556\n",
      "https://www.yes24.com/Product/Goods/124489213\n",
      "https://www.yes24.com/Product/Goods/122428190\n",
      "https://www.yes24.com/Product/Goods/123400303\n",
      "https://www.yes24.com/Product/Goods/118413014\n",
      "https://www.yes24.com/Product/Goods/79297023\n",
      "https://www.yes24.com/Product/Goods/123623040\n",
      "https://www.yes24.com/Product/Goods/119562091\n"
     ]
    }
   ],
   "source": [
    "# 1페이지 링크 데이터 전체 수집\n",
    "### 1개 베스트셀러 링크 수집\n",
    "browser.find_element(By.CLASS_NAME, 'gd_name').get_attribute('href')\n",
    "\n",
    "### 1페이지 전체 링크 데이터\n",
    "datas = browser.find_elements(By.CLASS_NAME, 'gd_name') # elements: LIST\n",
    "\n",
    "for i in datas:\n",
    "    print(i.get_attribute('href'))"
   ]
  },
  {
   "cell_type": "code",
   "execution_count": 41,
   "metadata": {},
   "outputs": [
    {
     "name": "stdout",
     "output_type": "stream",
     "text": [
      "********** 현재 1 페이지를 수집 중입니다. **********\n",
      "********** 현재 2 페이지를 수집 중입니다. **********\n",
      "********** 현재 3 페이지를 수집 중입니다. **********\n",
      "['https://www.yes24.com/Product/Goods/124574394', 'https://www.yes24.com/Product/Goods/122120495', 'https://www.yes24.com/Product/Goods/123675187', 'https://www.yes24.com/Product/Goods/117014613', 'https://www.yes24.com/Product/Goods/124112599', 'https://www.yes24.com/Product/Goods/124043812', 'https://www.yes24.com/Product/Goods/124501342', 'https://www.yes24.com/Product/Goods/124043802', 'https://www.yes24.com/Product/Goods/123930880', 'https://www.yes24.com/Product/Goods/123930891', 'https://www.yes24.com/Product/Goods/122090360', 'https://www.yes24.com/Product/Goods/122944685', 'https://www.yes24.com/Product/Goods/118579613', 'https://www.yes24.com/Product/Goods/123155346', 'https://www.yes24.com/Product/Goods/124127709', 'https://www.yes24.com/Product/Goods/122426425', 'https://www.yes24.com/Product/Goods/124341556', 'https://www.yes24.com/Product/Goods/124489213', 'https://www.yes24.com/Product/Goods/122428190', 'https://www.yes24.com/Product/Goods/123400303', 'https://www.yes24.com/Product/Goods/118413014', 'https://www.yes24.com/Product/Goods/79297023', 'https://www.yes24.com/Product/Goods/123623040', 'https://www.yes24.com/Product/Goods/119562091', 'https://www.yes24.com/Product/Goods/124027690', 'https://www.yes24.com/Product/Goods/123623043', 'https://www.yes24.com/Product/Goods/67362730', 'https://www.yes24.com/Product/Goods/116467955', 'https://www.yes24.com/Product/Goods/124341408', 'https://www.yes24.com/Product/Goods/119120517', 'https://www.yes24.com/Product/Goods/124014108', 'https://www.yes24.com/Product/Goods/118569079', 'https://www.yes24.com/Product/Goods/124300539', 'https://www.yes24.com/Product/Goods/91868954', 'https://www.yes24.com/Product/Goods/120785860', 'https://www.yes24.com/Product/Goods/119458052', 'https://www.yes24.com/Product/Goods/124219505', 'https://www.yes24.com/Product/Goods/124213135', 'https://www.yes24.com/Product/Goods/120761010', 'https://www.yes24.com/Product/Goods/124397623', 'https://www.yes24.com/Product/Goods/123930960', 'https://www.yes24.com/Product/Goods/124315134', 'https://www.yes24.com/Product/Goods/124157362', 'https://www.yes24.com/Product/Goods/90428162', 'https://www.yes24.com/Product/Goods/123664943', 'https://www.yes24.com/Product/Goods/123814844', 'https://www.yes24.com/Product/Goods/123318244', 'https://www.yes24.com/Product/Goods/123876440', 'https://www.yes24.com/Product/Goods/124472862', 'https://www.yes24.com/Product/Goods/124341067', 'https://www.yes24.com/Product/Goods/9349031', 'https://www.yes24.com/Product/Goods/124315515', 'https://www.yes24.com/Product/Goods/114853233', 'https://www.yes24.com/Product/Goods/122786183', 'https://www.yes24.com/Product/Goods/122433629', 'https://www.yes24.com/Product/Goods/122865851', 'https://www.yes24.com/Product/Goods/122880691', 'https://www.yes24.com/Product/Goods/121911671', 'https://www.yes24.com/Product/Goods/8759796', 'https://www.yes24.com/Product/Goods/123153430', 'https://www.yes24.com/Product/Goods/124225344', 'https://www.yes24.com/Product/Goods/124106975', 'https://www.yes24.com/Product/Goods/96794060', 'https://www.yes24.com/Product/Goods/106369008', 'https://www.yes24.com/Product/Goods/16384156', 'https://www.yes24.com/Product/Goods/69655504', 'https://www.yes24.com/Product/Goods/124488537', 'https://www.yes24.com/Product/Goods/106711883', 'https://www.yes24.com/Product/Goods/11081680', 'https://www.yes24.com/Product/Goods/118578901', 'https://www.yes24.com/Product/Goods/124472702', 'https://www.yes24.com/Product/Goods/115475489']\n"
     ]
    }
   ],
   "source": [
    "# Page 3 까지 링크 데이터 전부 수집\n",
    "\n",
    "import time\n",
    "from selenium import webdriver\n",
    "from selenium.webdriver.common.by import By\n",
    "\n",
    "# 브라우저 설정 및 초기화\n",
    "# 예시: Chrome 브라우저 사용\n",
    "browser = webdriver.Chrome()\n",
    "\n",
    "url = 'https://www.yes24.com/Product/Category/BestSeller?categoryNumber=001&pageNumber=1&pageSize=24'\n",
    "\n",
    "link_list = []\n",
    "for i in range(1, 4):\n",
    "    print(\"*\" *10, f'현재 {i} 페이지를 수집 중입니다.', \"*\"*10)\n",
    "    url = f'https://www.yes24.com/Product/Category/BestSeller?categoryNumber=001&pageNumber={i}&pageSize=24'\n",
    "    browser.get(url) \n",
    "    elements = browser.find_elements(By.CLASS_NAME, 'gd_name')\n",
    "    for element in elements:\n",
    "        link = element.get_attribute('href')\n",
    "        link_list.append(link)\n",
    "\n",
    "    time.sleep(3)\n",
    "\n",
    "print(link_list)\n"
   ]
  },
  {
   "cell_type": "code",
   "execution_count": 37,
   "metadata": {},
   "outputs": [
    {
     "data": {
      "text/plain": [
       "0"
      ]
     },
     "execution_count": 37,
     "metadata": {},
     "output_type": "execute_result"
    }
   ],
   "source": [
    "len(link_list)"
   ]
  },
  {
   "cell_type": "code",
   "execution_count": 46,
   "metadata": {},
   "outputs": [
    {
     "data": {
      "text/plain": [
       "'국내도서 1위 22주'"
      ]
     },
     "execution_count": 46,
     "metadata": {},
     "output_type": "execute_result"
    }
   ],
   "source": [
    "# for link in link_list:\n",
    "#     # 상세 페이지로 이동\n",
    "#     browser.get(link)\n",
    "browser.get(link_list[3]) # 여기서부터 에러가 났다. \n",
    "\n",
    "title = browser.find_element(By.CLASS_NAME, 'gd_name').text\n",
    "# title\n",
    "author = browser.find_element(By.CLASS_NAME, 'gd_auth').text\n",
    "# author\n",
    "publisher = browser.find_element(By.CLASS_NAME, 'gd_pub').text\n",
    "# publisher\n",
    "publishing = browser.find_element(By.CLASS_NAME, 'gd_date').text\n",
    "# publishing \n",
    "rating = browser.find_element(By.CLASS_NAME, 'yes_b').text\n",
    "# rating \n",
    "reviews = browser.find_element(By.CLASS_NAME, 'txC_blue').text\n",
    "# reviews \n",
    "sales = browser.find_element(By.CLASS_NAME, 'gd_sellNum').text.split(\" \")[2]\n",
    "    ## text = \"'| 판매지수 932,772 판매지수란?'\"\n",
    "    ## text.split(\" \")[2]\n",
    "# sales\n",
    "price = browser.find_element(By.CLASS_NAME, 'yes_m').text[:-1]\n",
    "    ## 뒤에 붙는 '원'을 빼고 싶다: .text[:-1] (처음부터 끝까지 가져오는데, 끝에서부터 첫 번째 칸까지만)\n",
    "# price\n",
    "ranking = browser.find_element(By.CLASS_NAME, 'gd_best').text.split(\" | \")[0]\n",
    "ranking_weeks = browser.find_element(By.CLASS_NAME, 'gd_best').text.split(\" | \")[1]\n",
    "    ## 두 개 태그로 두 개 정보 중 하나(국내 N위 혹은 ~위 ~주)만 추출하고 싶을 때 \n",
    "    ## a 태그로 접근하기: browser.find_element(By.CLASS_NAME, 'gd_best').find_element(By.TAG_NAME, 'a').text\n",
    "    ## em 태그로 접근하기: browser.find_element(By.CLASS_NAME, 'gd_best').find_element(By.TAG_NAME, 'em').text\n",
    "    ## 컨테이너 안에서 한 번 더 접근 가능하다. 근데 이거 em 태그가 아니라 dd 태그라서 문자열 구분으로 승부봐야한당.. \n",
    "    ## text = \"'국내도서 2위 | 국내도서 1위 8주'\"\n",
    "    ## text.split(\" | \")[0].split(\" \")\n",
    "# ranking\n",
    "ranking_weeks"
   ]
  },
  {
   "cell_type": "code",
   "execution_count": 36,
   "metadata": {},
   "outputs": [
    {
     "data": {
      "text/plain": [
       "'932,772'"
      ]
     },
     "execution_count": 36,
     "metadata": {},
     "output_type": "execute_result"
    }
   ],
   "source": [
    "# 상세 페이지 이동 후 데이터 크롤링\n",
    "\n"
   ]
  }
 ],
 "metadata": {
  "kernelspec": {
   "display_name": "Python 3",
   "language": "python",
   "name": "python3"
  },
  "language_info": {
   "codemirror_mode": {
    "name": "ipython",
    "version": 3
   },
   "file_extension": ".py",
   "mimetype": "text/x-python",
   "name": "python",
   "nbconvert_exporter": "python",
   "pygments_lexer": "ipython3",
   "version": "3.12.0"
  }
 },
 "nbformat": 4,
 "nbformat_minor": 2
}
