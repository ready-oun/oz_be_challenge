{
 "cells": [
  {
   "cell_type": "markdown",
   "metadata": {},
   "source": [
    "# YES24 Crawling"
   ]
  },
  {
   "cell_type": "code",
   "execution_count": 1,
   "metadata": {},
   "outputs": [
    {
     "data": {
      "text/plain": [
       "'/Users/robin/.wdm/drivers/chromedriver/mac64/120.0.6099.109/chromedriver-mac-arm64/chromedriver'"
      ]
     },
     "execution_count": 1,
     "metadata": {},
     "output_type": "execute_result"
    }
   ],
   "source": [
    "# webdriver-manager 라이브러리 불러오기\n",
    "from webdriver_manager.chrome import ChromeDriverManager\n",
    "ChromeDriverManager().install()"
   ]
  },
  {
   "cell_type": "code",
   "execution_count": 2,
   "metadata": {},
   "outputs": [],
   "source": [
    "from selenium import webdriver\n",
    "from selenium.webdriver.common.by import By\n",
    "\n",
    "browser = webdriver.Chrome()"
   ]
  },
  {
   "cell_type": "code",
   "execution_count": 3,
   "metadata": {},
   "outputs": [],
   "source": [
    "url = 'https://www.yes24.com/Product/Category/BestSeller?categoryNumber=001&pageNumber=1&pageSize=24'\n",
    "browser.get(url)"
   ]
  },
  {
   "cell_type": "code",
   "execution_count": 4,
   "metadata": {},
   "outputs": [
    {
     "name": "stdout",
     "output_type": "stream",
     "text": [
      "https://www.yes24.com/Product/Goods/124574394\n",
      "https://www.yes24.com/Product/Goods/122120495\n",
      "https://www.yes24.com/Product/Goods/123675187\n",
      "https://www.yes24.com/Product/Goods/117014613\n",
      "https://www.yes24.com/Product/Goods/124112599\n",
      "https://www.yes24.com/Product/Goods/124043812\n",
      "https://www.yes24.com/Product/Goods/124501342\n",
      "https://www.yes24.com/Product/Goods/124043802\n",
      "https://www.yes24.com/Product/Goods/123930880\n",
      "https://www.yes24.com/Product/Goods/123930891\n",
      "https://www.yes24.com/Product/Goods/122090360\n",
      "https://www.yes24.com/Product/Goods/122944685\n",
      "https://www.yes24.com/Product/Goods/118579613\n",
      "https://www.yes24.com/Product/Goods/123155346\n",
      "https://www.yes24.com/Product/Goods/124127709\n",
      "https://www.yes24.com/Product/Goods/122426425\n",
      "https://www.yes24.com/Product/Goods/124341556\n",
      "https://www.yes24.com/Product/Goods/124489213\n",
      "https://www.yes24.com/Product/Goods/122428190\n",
      "https://www.yes24.com/Product/Goods/123400303\n",
      "https://www.yes24.com/Product/Goods/118413014\n",
      "https://www.yes24.com/Product/Goods/79297023\n",
      "https://www.yes24.com/Product/Goods/123623040\n",
      "https://www.yes24.com/Product/Goods/119562091\n"
     ]
    }
   ],
   "source": [
    "# 1페이지 링크 데이터 전체 수집\n",
    "### 1개 베스트셀러 링크 수집\n",
    "browser.find_element(By.CLASS_NAME, 'gd_name').get_attribute('href')\n",
    "\n",
    "### 1페이지 전체 링크 데이터\n",
    "datas = browser.find_elements(By.CLASS_NAME, 'gd_name') # elements: LIST\n",
    "\n",
    "for i in datas:\n",
    "    print(i.get_attribute('href'))"
   ]
  },
  {
   "cell_type": "code",
   "execution_count": 5,
   "metadata": {},
   "outputs": [
    {
     "name": "stdout",
     "output_type": "stream",
     "text": [
      "********** 현재 1 페이지를 수집 중입니다. **********\n",
      "********** 현재 2 페이지를 수집 중입니다. **********\n",
      "********** 현재 3 페이지를 수집 중입니다. **********\n",
      "['https://www.yes24.com/Product/Goods/124574394', 'https://www.yes24.com/Product/Goods/122120495', 'https://www.yes24.com/Product/Goods/123675187', 'https://www.yes24.com/Product/Goods/117014613', 'https://www.yes24.com/Product/Goods/124112599', 'https://www.yes24.com/Product/Goods/124043812', 'https://www.yes24.com/Product/Goods/124501342', 'https://www.yes24.com/Product/Goods/124043802', 'https://www.yes24.com/Product/Goods/123930880', 'https://www.yes24.com/Product/Goods/123930891', 'https://www.yes24.com/Product/Goods/122090360', 'https://www.yes24.com/Product/Goods/122944685', 'https://www.yes24.com/Product/Goods/118579613', 'https://www.yes24.com/Product/Goods/123155346', 'https://www.yes24.com/Product/Goods/124127709', 'https://www.yes24.com/Product/Goods/122426425', 'https://www.yes24.com/Product/Goods/124341556', 'https://www.yes24.com/Product/Goods/124489213', 'https://www.yes24.com/Product/Goods/122428190', 'https://www.yes24.com/Product/Goods/123400303', 'https://www.yes24.com/Product/Goods/118413014', 'https://www.yes24.com/Product/Goods/79297023', 'https://www.yes24.com/Product/Goods/123623040', 'https://www.yes24.com/Product/Goods/119562091', 'https://www.yes24.com/Product/Goods/124027690', 'https://www.yes24.com/Product/Goods/123623043', 'https://www.yes24.com/Product/Goods/67362730', 'https://www.yes24.com/Product/Goods/116467955', 'https://www.yes24.com/Product/Goods/124341408', 'https://www.yes24.com/Product/Goods/119120517', 'https://www.yes24.com/Product/Goods/124014108', 'https://www.yes24.com/Product/Goods/118569079', 'https://www.yes24.com/Product/Goods/124300539', 'https://www.yes24.com/Product/Goods/91868954', 'https://www.yes24.com/Product/Goods/120785860', 'https://www.yes24.com/Product/Goods/119458052', 'https://www.yes24.com/Product/Goods/124219505', 'https://www.yes24.com/Product/Goods/124213135', 'https://www.yes24.com/Product/Goods/120761010', 'https://www.yes24.com/Product/Goods/124397623', 'https://www.yes24.com/Product/Goods/123930960', 'https://www.yes24.com/Product/Goods/124315134', 'https://www.yes24.com/Product/Goods/124157362', 'https://www.yes24.com/Product/Goods/90428162', 'https://www.yes24.com/Product/Goods/123664943', 'https://www.yes24.com/Product/Goods/123814844', 'https://www.yes24.com/Product/Goods/123318244', 'https://www.yes24.com/Product/Goods/123876440', 'https://www.yes24.com/Product/Goods/124472862', 'https://www.yes24.com/Product/Goods/124341067', 'https://www.yes24.com/Product/Goods/9349031', 'https://www.yes24.com/Product/Goods/124315515', 'https://www.yes24.com/Product/Goods/114853233', 'https://www.yes24.com/Product/Goods/122786183', 'https://www.yes24.com/Product/Goods/122433629', 'https://www.yes24.com/Product/Goods/122865851', 'https://www.yes24.com/Product/Goods/122880691', 'https://www.yes24.com/Product/Goods/121911671', 'https://www.yes24.com/Product/Goods/8759796', 'https://www.yes24.com/Product/Goods/123153430', 'https://www.yes24.com/Product/Goods/124225344', 'https://www.yes24.com/Product/Goods/124106975', 'https://www.yes24.com/Product/Goods/96794060', 'https://www.yes24.com/Product/Goods/106369008', 'https://www.yes24.com/Product/Goods/16384156', 'https://www.yes24.com/Product/Goods/69655504', 'https://www.yes24.com/Product/Goods/124488537', 'https://www.yes24.com/Product/Goods/106711883', 'https://www.yes24.com/Product/Goods/11081680', 'https://www.yes24.com/Product/Goods/118578901', 'https://www.yes24.com/Product/Goods/124472702', 'https://www.yes24.com/Product/Goods/115475489']\n"
     ]
    }
   ],
   "source": [
    "# Page 3 까지 링크 데이터 전부 수집\n",
    "\n",
    "import time\n",
    "# from selenium import webdriver\n",
    "\n",
    "\n",
    "# 브라우저 설정 및 초기화\n",
    "# 예시: Chrome 브라우저 사용\n",
    "browser = webdriver.Chrome()\n",
    "\n",
    "url = 'https://www.yes24.com/Product/Category/BestSeller?categoryNumber=001&pageNumber=1&pageSize=24'\n",
    "\n",
    "link_list = []\n",
    "for i in range(1, 4):\n",
    "    print(\"*\" *10, f'현재 {i} 페이지를 수집 중입니다.', \"*\"*10)\n",
    "    url = f'https://www.yes24.com/Product/Category/BestSeller?categoryNumber=001&pageNumber={i}&pageSize=24'\n",
    "    browser.get(url) \n",
    "    elements = browser.find_elements(By.CLASS_NAME, 'gd_name')\n",
    "    for element in elements:\n",
    "        link = element.get_attribute('href')\n",
    "        link_list.append(link)\n",
    "\n",
    "    time.sleep(3)\n",
    "\n",
    "print(link_list)\n"
   ]
  },
  {
   "cell_type": "code",
   "execution_count": 6,
   "metadata": {},
   "outputs": [
    {
     "data": {
      "text/plain": [
       "72"
      ]
     },
     "execution_count": 6,
     "metadata": {},
     "output_type": "execute_result"
    }
   ],
   "source": [
    "len(link_list)"
   ]
  },
  {
   "cell_type": "code",
   "execution_count": 98,
   "metadata": {},
   "outputs": [],
   "source": [
    "# for link in link_list:\n",
    "#     # 상세 페이지로 이동\n",
    "#     browser.get(link)\n",
    "browser.get(link_list[0]) # 여기서부터 에러가 났다. \n",
    "\n",
    "title = browser.find_element(By.CLASS_NAME, 'gd_name').text\n",
    "# title\n",
    "author = browser.find_element(By.CLASS_NAME, 'gd_auth').text\n",
    "# author\n",
    "publisher = browser.find_element(By.CLASS_NAME, 'gd_pub').text\n",
    "# publisher\n",
    "publishing = browser.find_element(By.CLASS_NAME, 'gd_date').text\n",
    "# publishing \n",
    "rating = browser.find_element(By.CLASS_NAME, 'yes_b').text\n",
    "# rating \n",
    "review = browser.find_element(By.CLASS_NAME, 'txC_blue').text\n",
    "# reviews \n",
    "sales = browser.find_element(By.CLASS_NAME, 'gd_sellNum').text.split(\" \")[2]\n",
    "    ## text = \"'| 판매지수 932,772 판매지수란?'\"\n",
    "    ## text.split(\" \")[2]\n",
    "# sales\n",
    "price = browser.find_element(By.CLASS_NAME, 'yes_m').text[:-1]\n",
    "    ## 뒤에 붙는 '원'을 빼고 싶다: .text[:-1] (처음부터 끝까지 가져오는데, 끝에서부터 첫 번째 칸까지만)\n",
    "# price\n",
    "ranking = browser.find_element(By.CLASS_NAME, 'gd_best').text.split(\" \")[2][:-1]\n",
    "    ## 국내몇위어쩌고만 나와서 수정. \n",
    "# ranking_weeks = browser.find_element(By.CLASS_NAME, 'gd_best').text.split(\" | \")[1].split(\" \")[2][:-1]\n",
    "    ## 두 개 태그로 두 개 정보 중 하나(국내 N위 혹은 ~위 ~주)만 추출하고 싶을 때 \n",
    "    ## a 태그로 접근하기: browser.find_element(By.CLASS_NAME, 'gd_best').find_element(By.TAG_NAME, 'a').text\n",
    "    ## em 태그로 접근하기: browser.find_element(By.CLASS_NAME, 'gd_best').find_element(By.TAG_NAME, 'em').text\n",
    "    ## 컨테이너 안에서 한 번 더 접근 가능하다. 근데 이거 em 태그가 아니라 dd 태그라서 문자열 구분으로 승부봐야한당.. \n",
    "    ## text = \"'국내도서 2위 | 국내도서 1위 8주'\"\n",
    "    ## text.split(\" | \")[0].split(\" \")\n",
    "# ranking\n",
    "# ranking_weeks"
   ]
  },
  {
   "cell_type": "code",
   "execution_count": 17,
   "metadata": {},
   "outputs": [
    {
     "data": {
      "text/plain": [
       "'1'"
      ]
     },
     "execution_count": 17,
     "metadata": {},
     "output_type": "execute_result"
    }
   ],
   "source": [
    "# for link in link_list:\n",
    "#     # 상세 페이지로 이동\n",
    "#     browser.get(link)\n",
    "browser.get(link_list[0]) # 여기서부터 에러가 났다. \n",
    "\n",
    "title = browser.find_element(By.CLASS_NAME, 'gd_name').text\n",
    "author = browser.find_element(By.CLASS_NAME, 'gd_auth').text\n",
    "publisher = browser.find_element(By.CLASS_NAME, 'gd_pub').text\n",
    "publishing = browser.find_element(By.CLASS_NAME, 'gd_date').text\n",
    "\n",
    "rating = browser.find_element(By.CLASS_NAME, 'yes_b').text\n",
    "review = browser.find_element(By.CLASS_NAME, 'txC_blue').text\n",
    "sales = browser.find_element(By.CLASS_NAME, 'gd_sellNum').text.split(\" \")[2]\n",
    "price = browser.find_element(By.CLASS_NAME, 'yes_m').text[:-1]\n",
    "\n",
    "ranking = browser.find_element(By.CLASS_NAME, 'gd_best').text.split(\" \")[2][:-1]\n",
    "# .split(\" | \")[1].split(\" \")[1][:-1]\n",
    "# ranking_weeks = browser.find_element(By.CLASS_NAME, 'gd_best').text\n",
    "# .split(\" | \")[1].split(\" \")[2][:-1]\n",
    "ranking"
   ]
  },
  {
   "cell_type": "code",
   "execution_count": 18,
   "metadata": {},
   "outputs": [
    {
     "ename": "ValueError",
     "evalue": "invalid literal for int() with base 10: '지역변경'",
     "output_type": "error",
     "traceback": [
      "\u001b[0;31m---------------------------------------------------------------------------\u001b[0m",
      "\u001b[0;31mValueError\u001b[0m                                Traceback (most recent call last)",
      "\u001b[1;32m/Users/robin/Desktop/oz_be_challenge/6. Pymysql/Database_class/Day3/3. (Mini Project) YES24_BestSeller_Crawling/Part2/05. /yes24_crawling copy.ipynb 셀 10\u001b[0m line \u001b[0;36m3\n\u001b[1;32m     <a href='vscode-notebook-cell:/Users/robin/Desktop/oz_be_challenge/6.%20Pymysql/Database_class/Day3/3.%20%28Mini%20Project%29%20YES24_BestSeller_Crawling/Part2/05.%20/yes24_crawling%20copy.ipynb#X12sZmlsZQ%3D%3D?line=34'>35</a>\u001b[0m rating \u001b[39m=\u001b[39m browser\u001b[39m.\u001b[39mfind_element(By\u001b[39m.\u001b[39mCLASS_NAME, \u001b[39m'\u001b[39m\u001b[39myes_b\u001b[39m\u001b[39m'\u001b[39m)\u001b[39m.\u001b[39mtext\n\u001b[1;32m     <a href='vscode-notebook-cell:/Users/robin/Desktop/oz_be_challenge/6.%20Pymysql/Database_class/Day3/3.%20%28Mini%20Project%29%20YES24_BestSeller_Crawling/Part2/05.%20/yes24_crawling%20copy.ipynb#X12sZmlsZQ%3D%3D?line=36'>37</a>\u001b[0m review \u001b[39m=\u001b[39m browser\u001b[39m.\u001b[39mfind_element(By\u001b[39m.\u001b[39mCLASS_NAME, \u001b[39m'\u001b[39m\u001b[39mtxC_blue\u001b[39m\u001b[39m'\u001b[39m)\u001b[39m.\u001b[39mtext\n\u001b[0;32m---> <a href='vscode-notebook-cell:/Users/robin/Desktop/oz_be_challenge/6.%20Pymysql/Database_class/Day3/3.%20%28Mini%20Project%29%20YES24_BestSeller_Crawling/Part2/05.%20/yes24_crawling%20copy.ipynb#X12sZmlsZQ%3D%3D?line=37'>38</a>\u001b[0m review \u001b[39m=\u001b[39m \u001b[39mint\u001b[39;49m(review\u001b[39m.\u001b[39;49mreplace(\u001b[39m\"\u001b[39;49m\u001b[39m,\u001b[39;49m\u001b[39m\"\u001b[39;49m, \u001b[39m\"\u001b[39;49m\u001b[39m\"\u001b[39;49m)) \u001b[39m# replace comma\u001b[39;00m\n\u001b[1;32m     <a href='vscode-notebook-cell:/Users/robin/Desktop/oz_be_challenge/6.%20Pymysql/Database_class/Day3/3.%20%28Mini%20Project%29%20YES24_BestSeller_Crawling/Part2/05.%20/yes24_crawling%20copy.ipynb#X12sZmlsZQ%3D%3D?line=39'>40</a>\u001b[0m sales \u001b[39m=\u001b[39m browser\u001b[39m.\u001b[39mfind_element(By\u001b[39m.\u001b[39mCLASS_NAME, \u001b[39m'\u001b[39m\u001b[39mgd_sellNum\u001b[39m\u001b[39m'\u001b[39m)\u001b[39m.\u001b[39mtext\u001b[39m.\u001b[39msplit(\u001b[39m\"\u001b[39m\u001b[39m \u001b[39m\u001b[39m\"\u001b[39m)[\u001b[39m2\u001b[39m]\n\u001b[1;32m     <a href='vscode-notebook-cell:/Users/robin/Desktop/oz_be_challenge/6.%20Pymysql/Database_class/Day3/3.%20%28Mini%20Project%29%20YES24_BestSeller_Crawling/Part2/05.%20/yes24_crawling%20copy.ipynb#X12sZmlsZQ%3D%3D?line=40'>41</a>\u001b[0m sales \u001b[39m=\u001b[39m \u001b[39mint\u001b[39m(sales\u001b[39m.\u001b[39mreplace(\u001b[39m\"\u001b[39m\u001b[39m,\u001b[39m\u001b[39m\"\u001b[39m, \u001b[39m\"\u001b[39m\u001b[39m\"\u001b[39m))\n",
      "\u001b[0;31mValueError\u001b[0m: invalid literal for int() with base 10: '지역변경'"
     ]
    }
   ],
   "source": [
    "# 데이터베이스 연동 후 --> 수집한 데이터를 DB에 저장 (csv)\n",
    "import pymysql # pip install pymysql\n",
    "import time\n",
    "import re\n",
    "from datetime import datetime\n",
    "\n",
    "conn = pymysql.connect(\n",
    "    host='localhost',\n",
    "    user='root',\n",
    "    password='robin_robin',\n",
    "    db='yes24',\n",
    "    charset='utf8mb4',\n",
    "    cursorclass=pymysql.cursors.DictCursor\n",
    ")\n",
    "\n",
    "with conn.cursor() as cur: \n",
    "    for i in link_list:\n",
    "        browser.get(i) # link -> i   \n",
    "\n",
    "        title = browser.find_element(By.CLASS_NAME, 'gd_name').text\n",
    "        author = browser.find_element(By.CLASS_NAME, 'gd_auth').text\n",
    "        publisher = browser.find_element(By.CLASS_NAME, 'gd_pub').text\n",
    "        # 2023년 12월 24일 -> 2023-12-24\n",
    "        publishing = browser.find_element(By.CLASS_NAME, 'gd_date').text\n",
    "\n",
    "        match = re.search(r'(\\d+)년 (\\d+)월 (\\d+)일', publishing)\n",
    "\n",
    "        if match:\n",
    "            year, month, day = match.groups()\n",
    "            data_obj = datetime(int(year), int(month), int(day))\n",
    "            publishing = data_obj.strftime(\"%Y-%-m-%d\")\n",
    "        else: \n",
    "            publishing = \"2024-00-00\"\n",
    "\n",
    "        rating = browser.find_element(By.CLASS_NAME, 'yes_b').text\n",
    "        \n",
    "        review = browser.find_element(By.CLASS_NAME, 'txC_blue').text\n",
    "        review = int(review.replace(\",\", \"\")) # replace comma\n",
    "        \n",
    "        sales = browser.find_element(By.CLASS_NAME, 'gd_sellNum').text.split(\" \")[2]\n",
    "        sales = int(sales.replace(\",\", \"\"))\n",
    "\n",
    "        price = browser.find_element(By.CLASS_NAME, 'yes_m').text[:-1]\n",
    "        price = int(price.replace(\",\", \"\"))\n",
    "\n",
    "        full_text = browser.find_element(By.CLASS_NAME, 'gd_best').text\n",
    "        parts = full_text.split(\" | \")\n",
    "\n",
    "        if len(parts) == 1: # 빈칸 등으로 정상적으로 들어오지 않음\n",
    "            ranking = 0\n",
    "            # ranking_weeks = 0 \n",
    "        else:\n",
    "            try:\n",
    "                ranking = int(browser.find_element(By.CLASS_NAME, 'gd_best').text.split(\" \")[2][:-1])\n",
    "                # 문자데이터에서 숫자만 가져오기\n",
    "                # full_text = browser.find_element(By.CLASS_NAME, 'gd_best').text\n",
    "                # parts = full_text.split(\" \")\n",
    "                # ranking_part = parts[0]\n",
    "                # ranking = ''.join(filter(str.isdigit, ranking_part)) \n",
    "            except:\n",
    "                ranking = 0\n",
    "            # print(ranking)\n",
    "            # try:\n",
    "            #     full_text = browser.find_element(By.CLASS_NAME, 'gd_best').text\n",
    "            #     parts = full_text.split(\" | \")\n",
    "            #     ranking_weeks_part = parts[1]\n",
    "            #     ranking_weeks = ''.join(filter(str.isdigit, ranking_weeks_part.split()[-1]))\n",
    "            # except:\n",
    "            #     ranking_weeks = 0\n",
    "            # print(ranking_weeks)\n",
    "\n",
    "        # ranking = browser.find_element(By.CLASS_NAME, 'gd_best').text.split(\" | \")[1].split(\" \")[1][:-1]\n",
    "        # ranking_weeks = browser.find_element(By.CLASS_NAME, 'gd_best').text.split(\" | \")[1].split(\" \")[2][:-1]\n",
    "\n",
    "        # ranking_weeks 삭제함\n",
    "        sql = \"\"\"INSERT INTO Books(\n",
    "            title, author, publisher, publishing, rating, review, sales, price, ranking\n",
    "            )\n",
    "            VALUES(\n",
    "            %s, %s, %s, %s, %s, %s, %s, %s, %s\n",
    "            )\n",
    "            \"\"\"\n",
    "                # bookID는 AUTO_INCREMENT 라서 따로 안 넣어도 되는겨.\n",
    "        cur.execute(sql,(title, author, publisher, publishing, rating, review, sales, price, ranking))\n",
    "                # ranking_weeks 삭제함\n",
    "        conn.commit()\n",
    "\n",
    "        time.sleep(2)\n",
    "\n",
    "        # 키위엔 영어회화 하루 5분의 기적 1권만 냅다 81행이 크롤링됐다 ... \n",
    "        # 젠장....163권 됨 ㅜㅜ 아아아아아아아앙 ㅗㅗ Whyrano.... "
   ]
  }
 ],
 "metadata": {
  "kernelspec": {
   "display_name": "Python 3",
   "language": "python",
   "name": "python3"
  },
  "language_info": {
   "codemirror_mode": {
    "name": "ipython",
    "version": 3
   },
   "file_extension": ".py",
   "mimetype": "text/x-python",
   "name": "python",
   "nbconvert_exporter": "python",
   "pygments_lexer": "ipython3",
   "version": "3.12.0"
  }
 },
 "nbformat": 4,
 "nbformat_minor": 2
}
